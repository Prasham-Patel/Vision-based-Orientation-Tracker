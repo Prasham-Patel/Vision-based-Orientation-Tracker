{
  "nbformat": 4,
  "nbformat_minor": 0,
  "metadata": {
    "colab": {
      "name": "YOLO_chess.ipynb",
      "provenance": []
    },
    "kernelspec": {
      "name": "python3",
      "display_name": "Python 3"
    },
    "language_info": {
      "name": "python"
    },
    "accelerator": "GPU"
  },
  "cells": [
    {
      "cell_type": "code",
      "execution_count": null,
      "metadata": {
        "colab": {
          "base_uri": "https://localhost:8080/"
        },
        "id": "du52AHus4MC2",
        "outputId": "469d8926-7d8f-4dda-a8c6-1c3f0fb136ff"
      },
      "outputs": [
        {
          "output_type": "stream",
          "name": "stdout",
          "text": [
            "fatal: destination path 'yolov5' already exists and is not an empty directory.\n",
            "[Errno 2] No such file or directory: 'yolov5new'\n",
            "/content/yolov5/yolov5\n"
          ]
        }
      ],
      "source": [
        "# clone YOLOv5 and reset to a specific git checkpoint that has been verified working\n",
        "!git clone https://github.com/ultralytics/yolov5  # clone repo\n",
        "%cd yolov5"
      ]
    },
    {
      "cell_type": "code",
      "source": [
        "pip install torch==1.7.0+cu110 torchvision==0.8.1+cu110 torchaudio===0.7.0 -f https://download.pytorch.org/whl/torch_stable.html"
      ],
      "metadata": {
        "colab": {
          "base_uri": "https://localhost:8080/"
        },
        "id": "7E1raDC44Vl4",
        "outputId": "20fb7a48-ba05-45fa-ee5f-fc89c079228f"
      },
      "execution_count": null,
      "outputs": [
        {
          "output_type": "stream",
          "name": "stdout",
          "text": [
            "Looking in links: https://download.pytorch.org/whl/torch_stable.html\n",
            "Requirement already satisfied: torch==1.7.0+cu110 in /usr/local/lib/python3.7/dist-packages (1.7.0+cu110)\n",
            "Requirement already satisfied: torchvision==0.8.1+cu110 in /usr/local/lib/python3.7/dist-packages (0.8.1+cu110)\n",
            "Requirement already satisfied: torchaudio===0.7.0 in /usr/local/lib/python3.7/dist-packages (0.7.0)\n",
            "Requirement already satisfied: typing-extensions in /usr/local/lib/python3.7/dist-packages (from torch==1.7.0+cu110) (3.10.0.2)\n",
            "Requirement already satisfied: dataclasses in /usr/local/lib/python3.7/dist-packages (from torch==1.7.0+cu110) (0.6)\n",
            "Requirement already satisfied: future in /usr/local/lib/python3.7/dist-packages (from torch==1.7.0+cu110) (0.16.0)\n",
            "Requirement already satisfied: numpy in /usr/local/lib/python3.7/dist-packages (from torch==1.7.0+cu110) (1.19.5)\n",
            "Requirement already satisfied: pillow>=4.1.1 in /usr/local/lib/python3.7/dist-packages (from torchvision==0.8.1+cu110) (7.1.2)\n"
          ]
        }
      ]
    },
    {
      "cell_type": "code",
      "source": [
        "# install dependencies as necessary\n",
        "!pip install -qr requirements.txt  # install dependencies (ignore errors)\n",
        "import torch\n",
        "\n",
        "from IPython.display import Image, clear_output  # to display images\n",
        "from utils.google_utils import gdrive_download  # to download models/datasets\n",
        "\n",
        "# clear_output()\n",
        "print('Setup complete. Using torch %s %s' % (torch.__version__, torch.cuda.get_device_properties(0) if torch.cuda.is_available() else 'CPU'))"
      ],
      "metadata": {
        "colab": {
          "base_uri": "https://localhost:8080/"
        },
        "id": "c8r8oEHOHJHL",
        "outputId": "e6ce6f74-a83e-446a-f692-e69edbba3099"
      },
      "execution_count": null,
      "outputs": [
        {
          "output_type": "stream",
          "name": "stdout",
          "text": [
            "\u001b[?25l\r\u001b[K     |▌                               | 10 kB 25.5 MB/s eta 0:00:01\r\u001b[K     |█                               | 20 kB 29.7 MB/s eta 0:00:01\r\u001b[K     |█▋                              | 30 kB 26.3 MB/s eta 0:00:01\r\u001b[K     |██▏                             | 40 kB 20.1 MB/s eta 0:00:01\r\u001b[K     |██▊                             | 51 kB 14.6 MB/s eta 0:00:01\r\u001b[K     |███▎                            | 61 kB 11.2 MB/s eta 0:00:01\r\u001b[K     |███▉                            | 71 kB 11.6 MB/s eta 0:00:01\r\u001b[K     |████▍                           | 81 kB 12.8 MB/s eta 0:00:01\r\u001b[K     |█████                           | 92 kB 11.8 MB/s eta 0:00:01\r\u001b[K     |█████▌                          | 102 kB 12.7 MB/s eta 0:00:01\r\u001b[K     |██████                          | 112 kB 12.7 MB/s eta 0:00:01\r\u001b[K     |██████▋                         | 122 kB 12.7 MB/s eta 0:00:01\r\u001b[K     |███████▏                        | 133 kB 12.7 MB/s eta 0:00:01\r\u001b[K     |███████▊                        | 143 kB 12.7 MB/s eta 0:00:01\r\u001b[K     |████████▎                       | 153 kB 12.7 MB/s eta 0:00:01\r\u001b[K     |████████▉                       | 163 kB 12.7 MB/s eta 0:00:01\r\u001b[K     |█████████▍                      | 174 kB 12.7 MB/s eta 0:00:01\r\u001b[K     |██████████                      | 184 kB 12.7 MB/s eta 0:00:01\r\u001b[K     |██████████▍                     | 194 kB 12.7 MB/s eta 0:00:01\r\u001b[K     |███████████                     | 204 kB 12.7 MB/s eta 0:00:01\r\u001b[K     |███████████▌                    | 215 kB 12.7 MB/s eta 0:00:01\r\u001b[K     |████████████                    | 225 kB 12.7 MB/s eta 0:00:01\r\u001b[K     |████████████▋                   | 235 kB 12.7 MB/s eta 0:00:01\r\u001b[K     |█████████████▏                  | 245 kB 12.7 MB/s eta 0:00:01\r\u001b[K     |█████████████▊                  | 256 kB 12.7 MB/s eta 0:00:01\r\u001b[K     |██████████████▎                 | 266 kB 12.7 MB/s eta 0:00:01\r\u001b[K     |██████████████▉                 | 276 kB 12.7 MB/s eta 0:00:01\r\u001b[K     |███████████████▍                | 286 kB 12.7 MB/s eta 0:00:01\r\u001b[K     |████████████████                | 296 kB 12.7 MB/s eta 0:00:01\r\u001b[K     |████████████████▌               | 307 kB 12.7 MB/s eta 0:00:01\r\u001b[K     |█████████████████               | 317 kB 12.7 MB/s eta 0:00:01\r\u001b[K     |█████████████████▋              | 327 kB 12.7 MB/s eta 0:00:01\r\u001b[K     |██████████████████▏             | 337 kB 12.7 MB/s eta 0:00:01\r\u001b[K     |██████████████████▊             | 348 kB 12.7 MB/s eta 0:00:01\r\u001b[K     |███████████████████▎            | 358 kB 12.7 MB/s eta 0:00:01\r\u001b[K     |███████████████████▉            | 368 kB 12.7 MB/s eta 0:00:01\r\u001b[K     |████████████████████▍           | 378 kB 12.7 MB/s eta 0:00:01\r\u001b[K     |████████████████████▉           | 389 kB 12.7 MB/s eta 0:00:01\r\u001b[K     |█████████████████████▍          | 399 kB 12.7 MB/s eta 0:00:01\r\u001b[K     |██████████████████████          | 409 kB 12.7 MB/s eta 0:00:01\r\u001b[K     |██████████████████████▌         | 419 kB 12.7 MB/s eta 0:00:01\r\u001b[K     |███████████████████████         | 430 kB 12.7 MB/s eta 0:00:01\r\u001b[K     |███████████████████████▋        | 440 kB 12.7 MB/s eta 0:00:01\r\u001b[K     |████████████████████████▏       | 450 kB 12.7 MB/s eta 0:00:01\r\u001b[K     |████████████████████████▊       | 460 kB 12.7 MB/s eta 0:00:01\r\u001b[K     |█████████████████████████▎      | 471 kB 12.7 MB/s eta 0:00:01\r\u001b[K     |█████████████████████████▉      | 481 kB 12.7 MB/s eta 0:00:01\r\u001b[K     |██████████████████████████▍     | 491 kB 12.7 MB/s eta 0:00:01\r\u001b[K     |███████████████████████████     | 501 kB 12.7 MB/s eta 0:00:01\r\u001b[K     |███████████████████████████▌    | 512 kB 12.7 MB/s eta 0:00:01\r\u001b[K     |████████████████████████████    | 522 kB 12.7 MB/s eta 0:00:01\r\u001b[K     |████████████████████████████▋   | 532 kB 12.7 MB/s eta 0:00:01\r\u001b[K     |█████████████████████████████▏  | 542 kB 12.7 MB/s eta 0:00:01\r\u001b[K     |█████████████████████████████▊  | 552 kB 12.7 MB/s eta 0:00:01\r\u001b[K     |██████████████████████████████▎ | 563 kB 12.7 MB/s eta 0:00:01\r\u001b[K     |██████████████████████████████▊ | 573 kB 12.7 MB/s eta 0:00:01\r\u001b[K     |███████████████████████████████▎| 583 kB 12.7 MB/s eta 0:00:01\r\u001b[K     |███████████████████████████████▉| 593 kB 12.7 MB/s eta 0:00:01\r\u001b[K     |████████████████████████████████| 596 kB 12.7 MB/s \n",
            "\u001b[?25hSetup complete. Using torch 1.7.0+cu110 _CudaDeviceProperties(name='Tesla K80', major=3, minor=7, total_memory=11441MB, multi_processor_count=13)\n"
          ]
        }
      ]
    },
    {
      "cell_type": "code",
      "source": [
        "%cd /content\n",
        "!curl -L \"https://app.roboflow.com/ds/APyxMvoJoF?key=TxZ6rZDbRK\" > roboflow.zip; unzip roboflow.zip; rm roboflow.zip\n",
        "# %cd /content\n",
        "# !curl -L \"https://app.roboflow.com/ds/foSYc9fSvM?key=FbqrlBNIOX\" > roboflow.zip; unzip roboflow.zip; rm roboflow.zip\n"
      ],
      "metadata": {
        "colab": {
          "base_uri": "https://localhost:8080/"
        },
        "id": "U8s5B7_G4dl3",
        "outputId": "5b080336-2a0a-4254-8cdc-a7b671b8f0d2"
      },
      "execution_count": null,
      "outputs": [
        {
          "output_type": "stream",
          "name": "stdout",
          "text": [
            "/content\n",
            "  % Total    % Received % Xferd  Average Speed   Time    Time     Time  Current\n",
            "                                 Dload  Upload   Total   Spent    Left  Speed\n",
            "100   888  100   888    0     0   1319      0 --:--:-- --:--:-- --:--:--  1317\n",
            "100  446k  100  446k    0     0   420k      0  0:00:01  0:00:01 --:--:--  420k\n",
            "Archive:  roboflow.zip\n",
            " extracting: README.dataset.txt      \n",
            " extracting: README.roboflow.txt     \n",
            " extracting: data.yaml               \n",
            "   creating: test/\n",
            "   creating: test/images/\n",
            " extracting: test/images/IMG_20211211_003323_jpg.rf.e7b5b3187eb688e15b65247bfdd62787.jpg  \n",
            " extracting: test/images/IMG_20211211_003354_jpg.rf.2b2f1270f89b98e5168371eae62f8560.jpg  \n",
            " extracting: test/images/IMG_20211211_003659_jpg.rf.8ddb3eeeb37b088c6e288049c0985691.jpg  \n",
            " extracting: test/images/IMG_20211211_003859_jpg.rf.220ec93572e29f19fab101c853ecf33f.jpg  \n",
            " extracting: test/images/IMG_20211211_003909_jpg.rf.79110c8036853eef5c0d53625cd3126d.jpg  \n",
            " extracting: test/images/IMG_20211211_004154_jpg.rf.a23efc7a3c3e485e29aedfb0e446e856.jpg  \n",
            " extracting: test/images/IMG_20211211_004306_jpg.rf.393875de8219cdc6c5bfaa665d35f28d.jpg  \n",
            "   creating: test/labels/\n",
            " extracting: test/labels/IMG_20211211_003323_jpg.rf.e7b5b3187eb688e15b65247bfdd62787.txt  \n",
            " extracting: test/labels/IMG_20211211_003354_jpg.rf.2b2f1270f89b98e5168371eae62f8560.txt  \n",
            " extracting: test/labels/IMG_20211211_003659_jpg.rf.8ddb3eeeb37b088c6e288049c0985691.txt  \n",
            " extracting: test/labels/IMG_20211211_003859_jpg.rf.220ec93572e29f19fab101c853ecf33f.txt  \n",
            " extracting: test/labels/IMG_20211211_003909_jpg.rf.79110c8036853eef5c0d53625cd3126d.txt  \n",
            " extracting: test/labels/IMG_20211211_004154_jpg.rf.a23efc7a3c3e485e29aedfb0e446e856.txt  \n",
            " extracting: test/labels/IMG_20211211_004306_jpg.rf.393875de8219cdc6c5bfaa665d35f28d.txt  \n",
            "   creating: train/\n",
            "   creating: train/images/\n",
            " extracting: train/images/IMG_20211211_003239_jpg.rf.2f90e6e6472b654332201bf88a180726.jpg  \n",
            " extracting: train/images/IMG_20211211_003257_jpg.rf.67253c6d262cd896861bb8537470fd7f.jpg  \n",
            " extracting: train/images/IMG_20211211_003311_jpg.rf.c3304f17346a499590e0c9f1007646cf.jpg  \n",
            " extracting: train/images/IMG_20211211_003317_jpg.rf.e46058763d46849ca8c6c5ed67217ca1.jpg  \n",
            " extracting: train/images/IMG_20211211_003341_jpg.rf.c79785b3b10025e86b506275810ad884.jpg  \n",
            " extracting: train/images/IMG_20211211_003346_jpg.rf.e167154be7b8fc8aa756eef3a619cc54.jpg  \n",
            " extracting: train/images/IMG_20211211_003350_jpg.rf.7b374583c3dc82a3b249c5bb8bc68b54.jpg  \n",
            " extracting: train/images/IMG_20211211_003359_jpg.rf.a3d51a0a27c50454a2b0ee29ad1647d4.jpg  \n",
            " extracting: train/images/IMG_20211211_003404_jpg.rf.6efb0fa78468333fa93639df63035520.jpg  \n",
            " extracting: train/images/IMG_20211211_003411_jpg.rf.b1fc42dd8a6795b437df3f323404d283.jpg  \n",
            " extracting: train/images/IMG_20211211_003416_jpg.rf.e82f92fac8bd29c799356b071eac339f.jpg  \n",
            " extracting: train/images/IMG_20211211_003420_jpg.rf.4b625a832b2d959436b9419747bb561e.jpg  \n",
            " extracting: train/images/IMG_20211211_003433_jpg.rf.3f04a106b8b66d64d740f68715647046.jpg  \n",
            " extracting: train/images/IMG_20211211_003439_jpg.rf.28f41a3009f6526f319da6cf2ece1b14.jpg  \n",
            " extracting: train/images/IMG_20211211_003447_jpg.rf.b579eb14735845ef392c219b80efb56b.jpg  \n",
            " extracting: train/images/IMG_20211211_003555_jpg.rf.61a88b047f5157c285ed59ffef80eb5c.jpg  \n",
            " extracting: train/images/IMG_20211211_003600_jpg.rf.cedd492c6056fa5ed50742d87c832856.jpg  \n",
            " extracting: train/images/IMG_20211211_003608_jpg.rf.ffecc485dd3e51e0fbab165f54bb5d95.jpg  \n",
            " extracting: train/images/IMG_20211211_003612_jpg.rf.831910baedc206e578831fe8cb7d4a5e.jpg  \n",
            " extracting: train/images/IMG_20211211_003711_jpg.rf.1c0ab5fdf89108967af312985374790e.jpg  \n",
            " extracting: train/images/IMG_20211211_003721_jpg.rf.85bb4acacdadea543dbeb202544609d6.jpg  \n",
            " extracting: train/images/IMG_20211211_003728_jpg.rf.cbc823a3447fa7efbeee5088fa067771.jpg  \n",
            " extracting: train/images/IMG_20211211_003733_jpg.rf.3b8db2b82f43bf11dbc28cc550353956.jpg  \n",
            " extracting: train/images/IMG_20211211_003747_jpg.rf.77c558b22737588f57af9343a059a904.jpg  \n",
            " extracting: train/images/IMG_20211211_003752_jpg.rf.9baee33c52459bc354dec968b28f4fec.jpg  \n",
            " extracting: train/images/IMG_20211211_003805_jpg.rf.6d2adb45db2977ae605257bb6525015c.jpg  \n",
            " extracting: train/images/IMG_20211211_003812_jpg.rf.7b76dd61294b634ddad1c8e6d31aed6f.jpg  \n",
            " extracting: train/images/IMG_20211211_003820_jpg.rf.6ca09c480746a51bf1a3c98d5e14e968.jpg  \n",
            " extracting: train/images/IMG_20211211_003831_jpg.rf.8c592208e06a5b2b7fa8b75f14f2cd0c.jpg  \n",
            " extracting: train/images/IMG_20211211_003855_jpg.rf.5d91364bcdaaa9183f36aaf3fc9da723.jpg  \n",
            " extracting: train/images/IMG_20211211_003904_jpg.rf.79ea964c42887b26395d1131a327f251.jpg  \n",
            " extracting: train/images/IMG_20211211_003914_jpg.rf.9061af9969b5c2ce801bb98b41f2fd04.jpg  \n",
            " extracting: train/images/IMG_20211211_004008_jpg.rf.82b30e0192545125625a6fa4410b8c17.jpg  \n",
            " extracting: train/images/IMG_20211211_004142_jpg.rf.509cd4a01a605f5343b4a87692d3ddc1.jpg  \n",
            " extracting: train/images/IMG_20211211_004150_jpg.rf.af568773388da0f1cece6d047f6c6a0d.jpg  \n",
            " extracting: train/images/IMG_20211211_004211_jpg.rf.b4bea76004c14106cae6988aab702933.jpg  \n",
            " extracting: train/images/IMG_20211211_004216_jpg.rf.78be0dc01ee1335915bcf10ff898ff59.jpg  \n",
            " extracting: train/images/IMG_20211211_004221_jpg.rf.0bd3dca510cc22742ba27a876fdd0fac.jpg  \n",
            " extracting: train/images/IMG_20211211_004226_jpg.rf.7747923b9fbdd58ffdc31f76d69a3385.jpg  \n",
            " extracting: train/images/IMG_20211211_004230_jpg.rf.30c06534cd769c4fef69564574df1c6b.jpg  \n",
            " extracting: train/images/IMG_20211211_004241_jpg.rf.50616168e5d0a35cd73eed8107fe9594.jpg  \n",
            " extracting: train/images/IMG_20211211_004248_jpg.rf.a240e99a24e9d74f08c656b087a624d0.jpg  \n",
            " extracting: train/images/IMG_20211211_004252_jpg.rf.02a0db779492c4afe0f986d094190e23.jpg  \n",
            " extracting: train/images/IMG_20211211_004257_jpg.rf.aa1fbb3eab9f0032f641c76d9b1af6fb.jpg  \n",
            " extracting: train/images/IMG_20211211_004302_jpg.rf.e439540b983aa38357bb15b7ae422423.jpg  \n",
            "   creating: train/labels/\n",
            " extracting: train/labels/IMG_20211211_003239_jpg.rf.2f90e6e6472b654332201bf88a180726.txt  \n",
            " extracting: train/labels/IMG_20211211_003257_jpg.rf.67253c6d262cd896861bb8537470fd7f.txt  \n",
            " extracting: train/labels/IMG_20211211_003311_jpg.rf.c3304f17346a499590e0c9f1007646cf.txt  \n",
            " extracting: train/labels/IMG_20211211_003317_jpg.rf.e46058763d46849ca8c6c5ed67217ca1.txt  \n",
            " extracting: train/labels/IMG_20211211_003341_jpg.rf.c79785b3b10025e86b506275810ad884.txt  \n",
            " extracting: train/labels/IMG_20211211_003346_jpg.rf.e167154be7b8fc8aa756eef3a619cc54.txt  \n",
            " extracting: train/labels/IMG_20211211_003350_jpg.rf.7b374583c3dc82a3b249c5bb8bc68b54.txt  \n",
            " extracting: train/labels/IMG_20211211_003359_jpg.rf.a3d51a0a27c50454a2b0ee29ad1647d4.txt  \n",
            " extracting: train/labels/IMG_20211211_003404_jpg.rf.6efb0fa78468333fa93639df63035520.txt  \n",
            " extracting: train/labels/IMG_20211211_003411_jpg.rf.b1fc42dd8a6795b437df3f323404d283.txt  \n",
            " extracting: train/labels/IMG_20211211_003416_jpg.rf.e82f92fac8bd29c799356b071eac339f.txt  \n",
            " extracting: train/labels/IMG_20211211_003420_jpg.rf.4b625a832b2d959436b9419747bb561e.txt  \n",
            " extracting: train/labels/IMG_20211211_003433_jpg.rf.3f04a106b8b66d64d740f68715647046.txt  \n",
            " extracting: train/labels/IMG_20211211_003439_jpg.rf.28f41a3009f6526f319da6cf2ece1b14.txt  \n",
            " extracting: train/labels/IMG_20211211_003447_jpg.rf.b579eb14735845ef392c219b80efb56b.txt  \n",
            " extracting: train/labels/IMG_20211211_003555_jpg.rf.61a88b047f5157c285ed59ffef80eb5c.txt  \n",
            " extracting: train/labels/IMG_20211211_003600_jpg.rf.cedd492c6056fa5ed50742d87c832856.txt  \n",
            " extracting: train/labels/IMG_20211211_003608_jpg.rf.ffecc485dd3e51e0fbab165f54bb5d95.txt  \n",
            " extracting: train/labels/IMG_20211211_003612_jpg.rf.831910baedc206e578831fe8cb7d4a5e.txt  \n",
            " extracting: train/labels/IMG_20211211_003711_jpg.rf.1c0ab5fdf89108967af312985374790e.txt  \n",
            " extracting: train/labels/IMG_20211211_003721_jpg.rf.85bb4acacdadea543dbeb202544609d6.txt  \n",
            " extracting: train/labels/IMG_20211211_003728_jpg.rf.cbc823a3447fa7efbeee5088fa067771.txt  \n",
            " extracting: train/labels/IMG_20211211_003733_jpg.rf.3b8db2b82f43bf11dbc28cc550353956.txt  \n",
            " extracting: train/labels/IMG_20211211_003747_jpg.rf.77c558b22737588f57af9343a059a904.txt  \n",
            " extracting: train/labels/IMG_20211211_003752_jpg.rf.9baee33c52459bc354dec968b28f4fec.txt  \n",
            " extracting: train/labels/IMG_20211211_003805_jpg.rf.6d2adb45db2977ae605257bb6525015c.txt  \n",
            " extracting: train/labels/IMG_20211211_003812_jpg.rf.7b76dd61294b634ddad1c8e6d31aed6f.txt  \n",
            " extracting: train/labels/IMG_20211211_003820_jpg.rf.6ca09c480746a51bf1a3c98d5e14e968.txt  \n",
            " extracting: train/labels/IMG_20211211_003831_jpg.rf.8c592208e06a5b2b7fa8b75f14f2cd0c.txt  \n",
            " extracting: train/labels/IMG_20211211_003855_jpg.rf.5d91364bcdaaa9183f36aaf3fc9da723.txt  \n",
            " extracting: train/labels/IMG_20211211_003904_jpg.rf.79ea964c42887b26395d1131a327f251.txt  \n",
            " extracting: train/labels/IMG_20211211_003914_jpg.rf.9061af9969b5c2ce801bb98b41f2fd04.txt  \n",
            " extracting: train/labels/IMG_20211211_004008_jpg.rf.82b30e0192545125625a6fa4410b8c17.txt  \n",
            " extracting: train/labels/IMG_20211211_004142_jpg.rf.509cd4a01a605f5343b4a87692d3ddc1.txt  \n",
            " extracting: train/labels/IMG_20211211_004150_jpg.rf.af568773388da0f1cece6d047f6c6a0d.txt  \n",
            " extracting: train/labels/IMG_20211211_004211_jpg.rf.b4bea76004c14106cae6988aab702933.txt  \n",
            " extracting: train/labels/IMG_20211211_004216_jpg.rf.78be0dc01ee1335915bcf10ff898ff59.txt  \n",
            " extracting: train/labels/IMG_20211211_004221_jpg.rf.0bd3dca510cc22742ba27a876fdd0fac.txt  \n",
            " extracting: train/labels/IMG_20211211_004226_jpg.rf.7747923b9fbdd58ffdc31f76d69a3385.txt  \n",
            " extracting: train/labels/IMG_20211211_004230_jpg.rf.30c06534cd769c4fef69564574df1c6b.txt  \n",
            " extracting: train/labels/IMG_20211211_004241_jpg.rf.50616168e5d0a35cd73eed8107fe9594.txt  \n",
            " extracting: train/labels/IMG_20211211_004248_jpg.rf.a240e99a24e9d74f08c656b087a624d0.txt  \n",
            " extracting: train/labels/IMG_20211211_004252_jpg.rf.02a0db779492c4afe0f986d094190e23.txt  \n",
            " extracting: train/labels/IMG_20211211_004257_jpg.rf.aa1fbb3eab9f0032f641c76d9b1af6fb.txt  \n",
            " extracting: train/labels/IMG_20211211_004302_jpg.rf.e439540b983aa38357bb15b7ae422423.txt  \n",
            "   creating: valid/\n",
            "   creating: valid/images/\n",
            " extracting: valid/images/IMG_20211211_003604_jpg.rf.21592983812993d15604c907e892b718.jpg  \n",
            " extracting: valid/images/IMG_20211211_003704_jpg.rf.8e5b5bd6b0afb1f357630e20867739ac.jpg  \n",
            " extracting: valid/images/IMG_20211211_003716_jpg.rf.fab39461fd529b29abb4d215868d1e74.jpg  \n",
            " extracting: valid/images/IMG_20211211_003825_jpg.rf.ac6173cb231f4116930f12b44ab0eda5.jpg  \n",
            " extracting: valid/images/IMG_20211211_003837_jpg.rf.90c361f6a32710048ea7435d16c23374.jpg  \n",
            " extracting: valid/images/IMG_20211211_003843_jpg.rf.944f48230a5f6b1009d3422ef2a1af21.jpg  \n",
            " extracting: valid/images/IMG_20211211_003850_jpg.rf.069c70d1c5c53614c6d97611bac4295c.jpg  \n",
            " extracting: valid/images/IMG_20211211_003922_jpg.rf.46b266e0f27f2bd451889f2b624f00fe.jpg  \n",
            " extracting: valid/images/IMG_20211211_004146_jpg.rf.9188eea440e708d05b346918f0255f34.jpg  \n",
            " extracting: valid/images/IMG_20211211_004158_jpg.rf.728510f95a3ab89927027b19bfa10964.jpg  \n",
            " extracting: valid/images/IMG_20211211_004202_jpg.rf.38f2432570f4c759dce2ead43586b9fd.jpg  \n",
            " extracting: valid/images/IMG_20211211_004206_jpg.rf.b482eb758f82b3605bfc8fa82bbf061e.jpg  \n",
            " extracting: valid/images/IMG_20211211_004236_jpg.rf.124ad621c91459fe11323af4967969ab.jpg  \n",
            "   creating: valid/labels/\n",
            " extracting: valid/labels/IMG_20211211_003604_jpg.rf.21592983812993d15604c907e892b718.txt  \n",
            " extracting: valid/labels/IMG_20211211_003704_jpg.rf.8e5b5bd6b0afb1f357630e20867739ac.txt  \n",
            " extracting: valid/labels/IMG_20211211_003716_jpg.rf.fab39461fd529b29abb4d215868d1e74.txt  \n",
            " extracting: valid/labels/IMG_20211211_003825_jpg.rf.ac6173cb231f4116930f12b44ab0eda5.txt  \n",
            " extracting: valid/labels/IMG_20211211_003837_jpg.rf.90c361f6a32710048ea7435d16c23374.txt  \n",
            " extracting: valid/labels/IMG_20211211_003843_jpg.rf.944f48230a5f6b1009d3422ef2a1af21.txt  \n",
            " extracting: valid/labels/IMG_20211211_003850_jpg.rf.069c70d1c5c53614c6d97611bac4295c.txt  \n",
            " extracting: valid/labels/IMG_20211211_003922_jpg.rf.46b266e0f27f2bd451889f2b624f00fe.txt  \n",
            " extracting: valid/labels/IMG_20211211_004146_jpg.rf.9188eea440e708d05b346918f0255f34.txt  \n",
            " extracting: valid/labels/IMG_20211211_004158_jpg.rf.728510f95a3ab89927027b19bfa10964.txt  \n",
            " extracting: valid/labels/IMG_20211211_004202_jpg.rf.38f2432570f4c759dce2ead43586b9fd.txt  \n",
            " extracting: valid/labels/IMG_20211211_004206_jpg.rf.b482eb758f82b3605bfc8fa82bbf061e.txt  \n",
            " extracting: valid/labels/IMG_20211211_004236_jpg.rf.124ad621c91459fe11323af4967969ab.txt  \n"
          ]
        }
      ]
    },
    {
      "cell_type": "code",
      "source": [
        "# define number of classes based on YAML\n",
        "import yaml\n",
        "with open(\"/content/data.yaml\", 'r') as stream:\n",
        "    num_classes = str(yaml.safe_load(stream)['nc'])"
      ],
      "metadata": {
        "id": "LciCk_fd5DY-"
      },
      "execution_count": null,
      "outputs": []
    },
    {
      "cell_type": "code",
      "source": [
        "from IPython.core.magic import register_line_cell_magic\n",
        "\n",
        "@register_line_cell_magic\n",
        "def writetemplate(line, cell):\n",
        "    with open(line, 'w') as f:\n",
        "        f.write(cell.format(**globals()))"
      ],
      "metadata": {
        "id": "_G5k73tc5EnK"
      },
      "execution_count": null,
      "outputs": []
    },
    {
      "cell_type": "code",
      "source": [
        "%%writetemplate /content/yolov5/models/custom_yolov5s.yaml\n",
        "\n",
        "# parameters\n",
        "nc: {num_classes}  # number of classes\n",
        "depth_multiple: 0.33  # model depth multiple\n",
        "width_multiple: 0.50  # layer channel multiple\n",
        "\n",
        "# anchors\n",
        "anchors:\n",
        "  - [10,13, 16,30, 33,23]  # P3/8\n",
        "  - [30,61, 62,45, 59,119]  # P4/16\n",
        "  - [116,90, 156,198, 373,326]  # P5/32\n",
        "\n",
        "# YOLOv5 backbone\n",
        "backbone:\n",
        "  # [from, number, module, args]\n",
        "  [[-1, 1, Focus, [64, 3]],  # 0-P1/2\n",
        "   [-1, 1, Conv, [128, 3, 2]],  # 1-P2/4\n",
        "   [-1, 3, BottleneckCSP, [128]],\n",
        "   [-1, 1, Conv, [256, 3, 2]],  # 3-P3/8\n",
        "   [-1, 9, BottleneckCSP, [256]],\n",
        "   [-1, 1, Conv, [512, 3, 2]],  # 5-P4/16\n",
        "   [-1, 9, BottleneckCSP, [512]],\n",
        "   [-1, 1, Conv, [1024, 3, 2]],  # 7-P5/32\n",
        "   [-1, 1, SPP, [1024, [5, 9, 13]]],\n",
        "   [-1, 3, BottleneckCSP, [1024, False]],  # 9\n",
        "  ]\n",
        "\n",
        "# YOLOv5 head\n",
        "head:\n",
        "  [[-1, 1, Conv, [512, 1, 1]],\n",
        "   [-1, 1, nn.Upsample, [None, 2, 'nearest']],\n",
        "   [[-1, 6], 1, Concat, [1]],  # cat backbone P4\n",
        "   [-1, 3, BottleneckCSP, [512, False]],  # 13\n",
        "\n",
        "   [-1, 1, Conv, [256, 1, 1]],\n",
        "   [-1, 1, nn.Upsample, [None, 2, 'nearest']],\n",
        "   [[-1, 4], 1, Concat, [1]],  # cat backbone P3\n",
        "   [-1, 3, BottleneckCSP, [256, False]],  # 17 (P3/8-small)\n",
        "\n",
        "   [-1, 1, Conv, [256, 3, 2]],\n",
        "   [[-1, 14], 1, Concat, [1]],  # cat head P4\n",
        "   [-1, 3, BottleneckCSP, [512, False]],  # 20 (P4/16-medium)\n",
        "\n",
        "   [-1, 1, Conv, [512, 3, 2]],\n",
        "   [[-1, 10], 1, Concat, [1]],  # cat head P5\n",
        "   [-1, 3, BottleneckCSP, [1024, False]],  # 23 (P5/32-large)\n",
        "\n",
        "   [[17, 20, 23], 1, Detect, [nc, anchors]],  # Detect(P3, P4, P5)\n",
        "  ]"
      ],
      "metadata": {
        "id": "65Jcwi1V5PHO"
      },
      "execution_count": null,
      "outputs": []
    },
    {
      "cell_type": "code",
      "source": [
        "# train yolov5s on custom data for 100 epochs\n",
        "# time its performance\n",
        "%%time\n",
        "%cd /content/yolov5/\n",
        "!python train.py --img 416 --batch 16 --epochs 50 --data '/content/data.yaml' --cfg ./models/custom_yolov5s.yaml --weights '' --name yolov5s_results  --cache"
      ],
      "metadata": {
        "colab": {
          "base_uri": "https://localhost:8080/"
        },
        "id": "NqxS2B8u5R4r",
        "outputId": "66d697a8-d80f-46e1-f849-a6fb20567903"
      },
      "execution_count": null,
      "outputs": [
        {
          "output_type": "stream",
          "name": "stdout",
          "text": [
            "/content/yolov5\n",
            "Using torch 1.7.0+cu110 CUDA:0 (Tesla K80, 11441MB)\n",
            "\n",
            "Namespace(adam=False, batch_size=16, bucket='', cache_images=True, cfg='./models/custom_yolov5s.yaml', data='/content/data.yaml', device='', epochs=50, evolve=False, exist_ok=False, global_rank=-1, hyp='data/hyp.scratch.yaml', image_weights=False, img_size=[416, 416], local_rank=-1, log_imgs=16, multi_scale=False, name='yolov5s_results', noautoanchor=False, nosave=False, notest=False, project='runs/train', rect=False, resume=False, save_dir='runs/train/yolov5s_results2', single_cls=False, sync_bn=False, total_batch_size=16, weights='', workers=8, world_size=1)\n",
            "Start Tensorboard with \"tensorboard --logdir runs/train\", view at http://localhost:6006/\n",
            "Hyperparameters {'lr0': 0.01, 'lrf': 0.2, 'momentum': 0.937, 'weight_decay': 0.0005, 'warmup_epochs': 3.0, 'warmup_momentum': 0.8, 'warmup_bias_lr': 0.1, 'box': 0.05, 'cls': 0.5, 'cls_pw': 1.0, 'obj': 1.0, 'obj_pw': 1.0, 'iou_t': 0.2, 'anchor_t': 4.0, 'fl_gamma': 0.0, 'hsv_h': 0.015, 'hsv_s': 0.7, 'hsv_v': 0.4, 'degrees': 0.0, 'translate': 0.1, 'scale': 0.5, 'shear': 0.0, 'perspective': 0.0, 'flipud': 0.0, 'fliplr': 0.5, 'mosaic': 1.0, 'mixup': 0.0}\n",
            "\n",
            "                 from  n    params  module                                  arguments                     \n",
            "  0                -1  1      3520  models.common.Focus                     [3, 32, 3]                    \n",
            "  1                -1  1     18560  models.common.Conv                      [32, 64, 3, 2]                \n",
            "  2                -1  1     19904  models.common.BottleneckCSP             [64, 64, 1]                   \n",
            "  3                -1  1     73984  models.common.Conv                      [64, 128, 3, 2]               \n",
            "  4                -1  1    161152  models.common.BottleneckCSP             [128, 128, 3]                 \n",
            "  5                -1  1    295424  models.common.Conv                      [128, 256, 3, 2]              \n",
            "  6                -1  1    641792  models.common.BottleneckCSP             [256, 256, 3]                 \n",
            "  7                -1  1   1180672  models.common.Conv                      [256, 512, 3, 2]              \n",
            "  8                -1  1    656896  models.common.SPP                       [512, 512, [5, 9, 13]]        \n",
            "  9                -1  1   1248768  models.common.BottleneckCSP             [512, 512, 1, False]          \n",
            " 10                -1  1    131584  models.common.Conv                      [512, 256, 1, 1]              \n",
            " 11                -1  1         0  torch.nn.modules.upsampling.Upsample    [None, 2, 'nearest']          \n",
            " 12           [-1, 6]  1         0  models.common.Concat                    [1]                           \n",
            " 13                -1  1    378624  models.common.BottleneckCSP             [512, 256, 1, False]          \n",
            " 14                -1  1     33024  models.common.Conv                      [256, 128, 1, 1]              \n",
            " 15                -1  1         0  torch.nn.modules.upsampling.Upsample    [None, 2, 'nearest']          \n",
            " 16           [-1, 4]  1         0  models.common.Concat                    [1]                           \n",
            " 17                -1  1     95104  models.common.BottleneckCSP             [256, 128, 1, False]          \n",
            " 18                -1  1    147712  models.common.Conv                      [128, 128, 3, 2]              \n",
            " 19          [-1, 14]  1         0  models.common.Concat                    [1]                           \n",
            " 20                -1  1    313088  models.common.BottleneckCSP             [256, 256, 1, False]          \n",
            " 21                -1  1    590336  models.common.Conv                      [256, 256, 3, 2]              \n",
            " 22          [-1, 10]  1         0  models.common.Concat                    [1]                           \n",
            " 23                -1  1   1248768  models.common.BottleneckCSP             [512, 512, 1, False]          \n",
            " 24      [17, 20, 23]  1     16182  models.yolo.Detect                      [1, [[10, 13, 16, 30, 33, 23], [30, 61, 62, 45, 59, 119], [116, 90, 156, 198, 373, 326]], [128, 256, 512]]\n",
            "Model Summary: 283 layers, 7255094 parameters, 7255094 gradients\n",
            "\n",
            "Optimizer groups: 62 .bias, 70 conv.weight, 59 other\n",
            "Scanning '../train/labels.cache' for images and labels... 45 found, 0 missing, 0 empty, 0 corrupted: 100% 45/45 [00:00<?, ?it/s]\n",
            "  0% 0/45 [00:00<?, ?it/s]src/tcmalloc.cc:283] Attempt to free invalid pointer 0x3c7d68683db0669d \n",
            "CPU times: user 78.5 ms, sys: 17.8 ms, total: 96.3 ms\n",
            "Wall time: 7.66 s\n"
          ]
        }
      ]
    },
    {
      "cell_type": "code",
      "source": [
        "from utils.plots import plot_results \n",
        "plot_results('/content/yolov5/runs/train/yolov5s_results/results.csv')  # plot 'results.csv' as 'results.png'"
      ],
      "metadata": {
        "id": "_SHBZelp8Ns9"
      },
      "execution_count": null,
      "outputs": []
    },
    {
      "cell_type": "code",
      "source": [
        "# when we ran this, we saw .007 second inference time. That is 140 FPS on a TESLA P100!\n",
        "# use the best weights!\n",
        "%cd /content/yolov5/\n",
        "!python detect.py --weights runs/train/yolov5s_results/weights/best.pt --img 416 --conf 0.02 --source ../test/images"
      ],
      "metadata": {
        "colab": {
          "base_uri": "https://localhost:8080/"
        },
        "id": "8qK1CNOP6A6B",
        "outputId": "e0ab6b36-d08d-4ca8-e8e5-ae17f19b5714"
      },
      "execution_count": null,
      "outputs": [
        {
          "output_type": "stream",
          "name": "stdout",
          "text": [
            "/content/yolov5\n",
            "\u001b[34m\u001b[1mdetect: \u001b[0mweights=['runs/train/yolov5s_results/weights/best.pt'], source=../test/images, imgsz=[416, 416], conf_thres=0.02, iou_thres=0.45, max_det=1000, device=, view_img=False, save_txt=False, save_conf=False, save_crop=False, nosave=False, classes=None, agnostic_nms=False, augment=False, visualize=False, update=False, project=runs/detect, name=exp, exist_ok=False, line_thickness=3, hide_labels=False, hide_conf=False, half=False, dnn=False\n",
            "YOLOv5 🚀 v6.0-139-g8f35436 torch 1.7.0+cu110 CPU\n",
            "\n",
            "Fusing layers... \n",
            "Model Summary: 232 layers, 7246518 parameters, 0 gradients, 16.8 GFLOPs\n",
            "image 1/7 /content/test/images/IMG_20211211_003323_jpg.rf.e7b5b3187eb688e15b65247bfdd62787.jpg: 416x416 Done. (0.226s)\n",
            "image 2/7 /content/test/images/IMG_20211211_003354_jpg.rf.2b2f1270f89b98e5168371eae62f8560.jpg: 416x416 Done. (0.233s)\n",
            "image 3/7 /content/test/images/IMG_20211211_003659_jpg.rf.8ddb3eeeb37b088c6e288049c0985691.jpg: 416x416 Done. (0.223s)\n",
            "image 4/7 /content/test/images/IMG_20211211_003859_jpg.rf.220ec93572e29f19fab101c853ecf33f.jpg: 416x416 Done. (0.225s)\n",
            "image 5/7 /content/test/images/IMG_20211211_003909_jpg.rf.79110c8036853eef5c0d53625cd3126d.jpg: 416x416 Done. (0.229s)\n",
            "image 6/7 /content/test/images/IMG_20211211_004154_jpg.rf.a23efc7a3c3e485e29aedfb0e446e856.jpg: 416x416 Done. (0.223s)\n",
            "image 7/7 /content/test/images/IMG_20211211_004306_jpg.rf.393875de8219cdc6c5bfaa665d35f28d.jpg: 416x416 Done. (0.223s)\n",
            "Speed: 0.9ms pre-process, 226.0ms inference, 0.3ms NMS per image at shape (1, 3, 416, 416)\n",
            "Results saved to \u001b[1mruns/detect/exp7\u001b[0m\n"
          ]
        }
      ]
    }
  ]
}